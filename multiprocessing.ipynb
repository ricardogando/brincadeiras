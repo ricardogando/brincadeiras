{
  "nbformat": 4,
  "nbformat_minor": 0,
  "metadata": {
    "colab": {
      "name": "multiprocessing.ipynb",
      "provenance": [],
      "authorship_tag": "ABX9TyOBgVYh+NdzG5SKZsnspTBC",
      "include_colab_link": true
    },
    "kernelspec": {
      "name": "python3",
      "display_name": "Python 3"
    },
    "language_info": {
      "name": "python"
    }
  },
  "cells": [
    {
      "cell_type": "markdown",
      "metadata": {
        "id": "view-in-github",
        "colab_type": "text"
      },
      "source": [
        "<a href=\"https://colab.research.google.com/github/ricardogando/brincadeiras/blob/master/multiprocessing.ipynb\" target=\"_parent\"><img src=\"https://colab.research.google.com/assets/colab-badge.svg\" alt=\"Open In Colab\"/></a>"
      ]
    },
    {
      "cell_type": "markdown",
      "metadata": {
        "id": "wx2lJ2T4IJ4U"
      },
      "source": [
        "# Importando o que preciso:\n",
        "* multiprocessing para paralelismo\n",
        "* time para medir o tempo\n",
        "* numpy para os cálculos \n"
      ]
    },
    {
      "cell_type": "code",
      "metadata": {
        "id": "98-nS0liilxA"
      },
      "source": [
        "from multiprocessing import Pool, cpu_count\n",
        "import time\n",
        "import numpy"
      ],
      "execution_count": 1,
      "outputs": []
    },
    {
      "cell_type": "markdown",
      "metadata": {
        "id": "ly-lknVxIT_9"
      },
      "source": [
        "# Numero de nucleos para processamento\n"
      ]
    },
    {
      "cell_type": "code",
      "metadata": {
        "colab": {
          "base_uri": "https://localhost:8080/"
        },
        "id": "GK1hyoi-IAO_",
        "outputId": "00ad5e9d-9b6b-4e49-c25b-5c609fe4452a"
      },
      "source": [
        "numcores = cpu_count()\n",
        "print('Número de núcleos nessa máquina virtual: ', numcores)"
      ],
      "execution_count": 2,
      "outputs": [
        {
          "output_type": "stream",
          "name": "stdout",
          "text": [
            "Número de núcleos nessa máquina virtual:  2\n"
          ]
        }
      ]
    },
    {
      "cell_type": "markdown",
      "metadata": {
        "id": "6DICioqMIwaV"
      },
      "source": [
        "# Função só para gastar tempo e exercitar o paralelismo\n",
        "\n",
        "Acho que a origem do código é o Astrobetter e foi adaptado para Python 3.X\n",
        "https://www.astrobetter.com/blog/2010/08/09/parallel-processing-in-python/\n"
      ]
    },
    {
      "cell_type": "code",
      "metadata": {
        "id": "O2lCdrl-IFYo"
      },
      "source": [
        "def takeuptime(ntrials):\n",
        "    for ii in range(ntrials):\n",
        "        junk = numpy.std(numpy.random.randn(10000))\n",
        "    #print(junk)\n",
        "    return junk\n"
      ],
      "execution_count": 3,
      "outputs": []
    },
    {
      "cell_type": "markdown",
      "metadata": {
        "id": "H1qH_u47JBeR"
      },
      "source": [
        "Executando a função no modo serial, rodando em dois núcleos e no número de núcles disponíveis, o que no Colab é o mesmo, mas em outros recursos não. "
      ]
    },
    {
      "cell_type": "code",
      "metadata": {
        "colab": {
          "base_uri": "https://localhost:8080/"
        },
        "id": "3R8aeG--IHn6",
        "outputId": "ae00148c-b813-4f15-c25d-9469b4cb2fa6"
      },
      "source": [
        "start = time.time()\n",
        "\n",
        "for t in [5000, 5000, 5000, 5000, 5000, 5000]:\n",
        "    takeuptime(t)\n",
        "print(\"Serial time: %f\" % (time.time() - start))\n",
        "\n",
        "start = time.time()\n",
        "pool = Pool(processes=2)\n",
        "pool.map(takeuptime, [5000, 5000, 5000, 5000, 5000, 5000])\n",
        "print (\"Parallel time for 2 cores: %f\" % (time.time() - start))\n",
        "\n",
        "start = time.time()\n",
        "pool = Pool(processes=2)\n",
        "pool.map(takeuptime, [5000, 5000, 5000, 5000, 5000, 5000])\n",
        "print (\"Parallel time for %d cores: %f\" % (numcores, time.time() - start))\n"
      ],
      "execution_count": 4,
      "outputs": [
        {
          "output_type": "stream",
          "name": "stdout",
          "text": [
            "Serial time: 14.139690\n",
            "Parallel time for 2 cores: 9.985835\n",
            "Parallel time for 2 cores: 9.931744\n"
          ]
        }
      ]
    },
    {
      "cell_type": "code",
      "metadata": {
        "id": "uYGNPQUrJPfb"
      },
      "source": [
        ""
      ],
      "execution_count": 4,
      "outputs": []
    }
  ]
}