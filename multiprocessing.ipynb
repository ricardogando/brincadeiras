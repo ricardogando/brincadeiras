{
  "nbformat": 4,
  "nbformat_minor": 0,
  "metadata": {
    "colab": {
      "name": "multiprocessing.ipynb",
      "provenance": [],
      "authorship_tag": "ABX9TyMNkzjI9GbpN3eDXpTcyA8c",
      "include_colab_link": true
    },
    "kernelspec": {
      "name": "python3",
      "display_name": "Python 3"
    },
    "language_info": {
      "name": "python"
    }
  },
  "cells": [
    {
      "cell_type": "markdown",
      "metadata": {
        "id": "view-in-github",
        "colab_type": "text"
      },
      "source": [
        "<a href=\"https://colab.research.google.com/github/ricardogando/brincadeiras/blob/master/multiprocessing.ipynb\" target=\"_parent\"><img src=\"https://colab.research.google.com/assets/colab-badge.svg\" alt=\"Open In Colab\"/></a>"
      ]
    },
    {
      "cell_type": "code",
      "metadata": {
        "colab": {
          "base_uri": "https://localhost:8080/"
        },
        "id": "98-nS0liilxA",
        "outputId": "46b71878-1def-4330-b55d-3eacf96f1d44"
      },
      "source": [
        "from multiprocessing import Pool, cpu_count\n",
        "import time\n",
        "import numpy\n",
        "\n",
        "numcores = cpu_count()\n",
        "print(numcores)\n",
        "\n",
        "def takeuptime(ntrials):\n",
        "    for ii in range(ntrials):\n",
        "        junk = numpy.std(numpy.random.randn(10000))\n",
        "    #print(junk)\n",
        "    return junk\n",
        "\n",
        "if __name__ == \"__main__\":\n",
        "    start = time.time()\n",
        "    #map(takeuptime, [5000, 5000, 5000, 5000])\n",
        "    for t in [5000, 5000, 5000, 5000, 5000, 5000]:\n",
        "        takeuptime(t)\n",
        "    print(\"Serial time: %f\" % (time.time() - start))\n",
        "\n",
        "    start = time.time()\n",
        "    pool = Pool(processes=2)\n",
        "    pool.map(takeuptime, [5000, 5000, 5000, 5000, 5000, 5000])\n",
        "    print (\"Parallel time for 2 cores: %f\" % (time.time() - start))\n"
      ],
      "execution_count": null,
      "outputs": [
        {
          "output_type": "stream",
          "name": "stdout",
          "text": [
            "2\n",
            "Serial time: 13.936256\n",
            "Parallel time for 2 cores: 10.229805\n"
          ]
        }
      ]
    },
    {
      "cell_type": "code",
      "metadata": {
        "colab": {
          "base_uri": "https://localhost:8080/"
        },
        "id": "JzwTpESRipfJ",
        "outputId": "9a2a623f-0698-4318-ed99-b67d1231fc19"
      },
      "source": [
        "from multiprocessing import cpu_count\n",
        "numcores = cpu_count()\n",
        "print(numcores)"
      ],
      "execution_count": null,
      "outputs": [
        {
          "output_type": "stream",
          "name": "stdout",
          "text": [
            "2\n"
          ]
        }
      ]
    },
    {
      "cell_type": "code",
      "metadata": {
        "id": "VIEYPple0qtT"
      },
      "source": [
        ""
      ],
      "execution_count": null,
      "outputs": []
    }
  ]
}