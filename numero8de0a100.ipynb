{
  "nbformat": 4,
  "nbformat_minor": 0,
  "metadata": {
    "colab": {
      "name": "numero8de0a100.ipynb",
      "provenance": [],
      "authorship_tag": "ABX9TyNN3V/gPq6+eovGaubLQWRv",
      "include_colab_link": true
    },
    "kernelspec": {
      "name": "python3",
      "display_name": "Python 3"
    },
    "language_info": {
      "name": "python"
    }
  },
  "cells": [
    {
      "cell_type": "markdown",
      "metadata": {
        "id": "view-in-github",
        "colab_type": "text"
      },
      "source": [
        "<a href=\"https://colab.research.google.com/github/ricardogando/brincadeiras/blob/master/numero8de0a100.ipynb\" target=\"_parent\"><img src=\"https://colab.research.google.com/assets/colab-badge.svg\" alt=\"Open In Colab\"/></a>"
      ]
    },
    {
      "cell_type": "markdown",
      "source": [
        "No Domingão do Huck de 20/03/2022, no quadro The Wall, foi feita a seguinte pergunta: quantos vezes o número 8 aparece de 0 a 100. \n",
        "\n",
        "Considerando número como sinônimo de algarismo, a resposta não é **uma vez apenas**. \n",
        "\n",
        "As opções eram 10, 18 e 20. O competidor respondeu 18. A resposta correta é 20.\n",
        "\n",
        "Fiz uma enquete no Twitter e algumas pessoas se distrairam e contaram errado. \n",
        "\n",
        "Esses dois códigos exemplificam um jeito errado e certo de encontrar a resposta (oi, 88!)."
      ],
      "metadata": {
        "id": "t4cX07gA8XZO"
      }
    },
    {
      "cell_type": "markdown",
      "source": [
        "# Errado"
      ],
      "metadata": {
        "id": "vrd_7fYa9Itr"
      }
    },
    {
      "cell_type": "code",
      "execution_count": 1,
      "metadata": {
        "colab": {
          "base_uri": "https://localhost:8080/"
        },
        "id": "9DpqTtZMhUle",
        "outputId": "3361c4ce-0a94-4560-91d7-ac3f922fbd6d"
      },
      "outputs": [
        {
          "output_type": "stream",
          "name": "stdout",
          "text": [
            "Quantos 8 de 0 a 100:  19\n"
          ]
        }
      ],
      "source": [
        "j = 0\n",
        "for i in range(101):\n",
        "    s = str(i)\n",
        "    if '8' in s:\n",
        "        j += 1\n",
        "\n",
        "print('Quantos 8 de 0 a 100: ', j)"
      ]
    },
    {
      "cell_type": "markdown",
      "source": [
        "## Certo"
      ],
      "metadata": {
        "id": "ARYHtJDj9L_1"
      }
    },
    {
      "cell_type": "code",
      "source": [
        "j = 0\n",
        "for i in range(101):\n",
        "    s = str(i)\n",
        "    j += s.count('8')\n",
        "\n",
        "print('Quantos 8 de 0 a 100: ', j)"
      ],
      "metadata": {
        "id": "d-yZV88Ehfce",
        "colab": {
          "base_uri": "https://localhost:8080/"
        },
        "outputId": "032eee29-15fa-4c25-c3ad-77eee43f914e"
      },
      "execution_count": 2,
      "outputs": [
        {
          "output_type": "stream",
          "name": "stdout",
          "text": [
            "Quantos 8 de 0 a 100:  20\n"
          ]
        }
      ]
    },
    {
      "cell_type": "markdown",
      "source": [
        "O primeiro método esquece que o algarismo 8 aparece duas vezes no 88. Por isso a resposta é 20! \n",
        "\n",
        "Teve quem também esqueceu da dezena inteira do 80! :) "
      ],
      "metadata": {
        "id": "4THgG81N-Cxb"
      }
    }
  ]
}