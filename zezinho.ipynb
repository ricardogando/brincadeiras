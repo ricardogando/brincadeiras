{
 "cells": [
  {
   "cell_type": "markdown",
   "metadata": {},
   "source": [
    "# Convergencia do Zerinho ou Um"
   ]
  },
  {
   "cell_type": "markdown",
   "metadata": {},
   "source": [
    "http://mapadobrincar.folha.com.br/brincadeiras/formulas-de-escolha/338-zero-ou-um\n",
    "\n",
    "Todos os participantes dizem \"zero ou um\" e colocam as mãos para a frente, mostrando um dedo ou nenhum.\n",
    "\n",
    "Se alguém colocar sozinho o um ou o zero, sai da brincadeira.\n",
    "\n",
    "O resto continua, até ficarem só dois participantes, que decidem a brincadeira no par ou ímpar.\n",
    "\n",
    "Pergunta: a medida que voce fica popular e conquista amigos, \n",
    "quantas jogadas sao necessarias para convergir o zerinho ou um (ou zezinho soltou um pum em algumas rodas de poucos amigos)"
   ]
  },
  {
   "cell_type": "code",
   "execution_count": 5,
   "metadata": {
    "collapsed": false
   },
   "outputs": [],
   "source": [
    "import numpy as np\n",
    "%matplotlib inline\n",
    "from matplotlib import pyplot as plt\n",
    "import pandas as pd\n",
    "import seaborn as sns"
   ]
  },
  {
   "cell_type": "code",
   "execution_count": 6,
   "metadata": {
    "collapsed": true
   },
   "outputs": [],
   "source": [
    "# grupos de amigos de diferentes tamanhos\n",
    "galera = np.arange(3,15)"
   ]
  },
  {
   "cell_type": "markdown",
   "metadata": {},
   "source": [
    "Na versão anterior, usávamos vários dicionários pra guardar as informações relevantes.\n",
    "Com o pandas podemos guardar num único DataFrame (atenção ao resultado = resultado.append() pra guardar)\n",
    "e depois usar os recursos do DataFrame como groupby para calcular estatísticas para as rodadas."
   ]
  },
  {
   "cell_type": "code",
   "execution_count": 7,
   "metadata": {
    "collapsed": false
   },
   "outputs": [],
   "source": [
    "# guardar informacao de convergencia para cada grupo de amigos\n",
    "resultado = pd.DataFrame()\n",
    "# precisamos varias interacoes pra ver o comportamento\n",
    "numero_interacoes = 50\n",
    "# testa convergencia para cada grupo de amigos\n",
    "for amigos in galera:\n",
    "    for interacao in xrange(numero_interacoes):\n",
    "        i = 0\n",
    "        while True:\n",
    "            # jogadas de zerinho ou um\n",
    "            zero_um = np.random.randint(0, 2, size=amigos)\n",
    "            #print i, zero_um\n",
    "            i += 1\n",
    "            # uma maneira de testar quem sai\n",
    "            if sum(zero_um) == 1 or sum(zero_um) == amigos-1:\n",
    "                #print amigos, i,'converge'\n",
    "                resultado = resultado.append(pd.DataFrame([[amigos, i]], columns=['amigos', 'jogadas']))\n",
    "                break"
   ]
  },
  {
   "cell_type": "markdown",
   "metadata": {},
   "source": [
    "as_index=False faz com que amigos vire uma coluna e não um index, permitindo fazer plots com o seaborn"
   ]
  },
  {
   "cell_type": "code",
   "execution_count": 8,
   "metadata": {
    "collapsed": false
   },
   "outputs": [
    {
     "name": "stdout",
     "output_type": "stream",
     "text": [
      "           amigos      jogadas\n",
      "count  600.000000   600.000000\n",
      "mean     8.500000   100.018333\n",
      "std      3.454933   236.583751\n",
      "min      3.000000     1.000000\n",
      "25%      5.750000     2.000000\n",
      "50%      8.500000    13.000000\n",
      "75%     11.250000    79.000000\n",
      "max     14.000000  2338.000000\n"
     ]
    }
   ],
   "source": [
    "print resultado.describe()\n",
    "media = resultado.groupby('amigos', as_index=False).mean()"
   ]
  },
  {
   "cell_type": "markdown",
   "metadata": {},
   "source": [
    "Usamos boxplot pra mostrar toda a informação que precisamos sobre a distribuição de jogadas para cada\n",
    "grupo de amigos: mediana, quartis, extremos, e outliers. Para mais informação sobre boxplot https://pt.wikipedia.org/wiki/Diagrama_de_caixa\n",
    "\n",
    "Também plotamos a média calculada pelo groupby só como exemplo (pontos pretos)."
   ]
  },
  {
   "cell_type": "code",
   "execution_count": 9,
   "metadata": {
    "collapsed": false
   },
   "outputs": [
    {
     "data": {
      "image/png": "[encoded data removed]",
      "text/plain": [
       "<matplotlib.figure.Figure at 0x102799410>"
      ]
     },
     "metadata": {},
     "output_type": "display_data"
    }
   ],
   "source": [
    "ax = sns.boxplot(x=\"amigos\", y=\"jogadas\", data=resultado)\n",
    "# Add in points to show each observation\n",
    "sns.stripplot(x=\"amigos\", y=\"jogadas\", data=media,\n",
    "              jitter=True, size=10, color=\".3\", linewidth=0)\n",
    "\n",
    "# Make the quantitative axis logarithmic\n",
    "ax.set_yscale(\"log\")"
   ]
  },
  {
   "cell_type": "code",
   "execution_count": null,
   "metadata": {
    "collapsed": true
   },
   "outputs": [],
   "source": []
  }
 ],
 "metadata": {
  "kernelspec": {
   "display_name": "Python 2",
   "language": "python",
   "name": "python2"
  },
  "language_info": {
   "codemirror_mode": {
    "name": "ipython",
    "version": 2
   },
   "file_extension": ".py",
   "mimetype": "text/x-python",
   "name": "python",
   "nbconvert_exporter": "python",
   "pygments_lexer": "ipython2",
   "version": "2.7.11"
  }
 },
 "nbformat": 4,
 "nbformat_minor": 0
}
